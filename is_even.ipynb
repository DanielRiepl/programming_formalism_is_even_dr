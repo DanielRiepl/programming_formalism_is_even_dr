{
 "cells": [
  {
   "cell_type": "code",
   "execution_count": 23,
   "id": "b70df9ef-d0da-480e-8d05-5b54e351a2c3",
   "metadata": {},
   "outputs": [
    {
     "data": {
      "text/plain": [
       "True"
      ]
     },
     "execution_count": 23,
     "metadata": {},
     "output_type": "execute_result"
    }
   ],
   "source": [
    "\n",
    "def is_even(x):\n",
    "    if not isinstance(x, int):\n",
    "        raise TypeError(\"Please input an integer\")\n",
    "    else:\n",
    "        return (x % 2 == 0)\n",
    "\n",
    "\n",
    "is_even(2)"
   ]
  },
  {
   "cell_type": "code",
   "execution_count": null,
   "id": "c83623d4-8e0b-40ed-b170-e43accc34286",
   "metadata": {},
   "outputs": [],
   "source": []
  }
 ],
 "metadata": {
  "kernelspec": {
   "display_name": "Python 3 (ipykernel)",
   "language": "python",
   "name": "python3"
  },
  "language_info": {
   "codemirror_mode": {
    "name": "ipython",
    "version": 3
   },
   "file_extension": ".py",
   "mimetype": "text/x-python",
   "name": "python",
   "nbconvert_exporter": "python",
   "pygments_lexer": "ipython3",
   "version": "3.7.4"
  }
 },
 "nbformat": 4,
 "nbformat_minor": 5
}
